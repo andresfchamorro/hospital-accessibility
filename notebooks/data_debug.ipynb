{
 "cells": [
  {
   "cell_type": "code",
   "execution_count": 9,
   "metadata": {},
   "outputs": [
    {
     "name": "stdout",
     "output_type": "stream",
     "text": [
      "The autoreload extension is already loaded. To reload it, use:\n",
      "  %reload_ext autoreload\n"
     ]
    }
   ],
   "source": [
    "# This is a Jupyter Notebook extension which reloads all of the modules whenever you run the code\n",
    "# This is optional but good if you are modifying and testing source code\n",
    "%load_ext autoreload\n",
    "%autoreload 2\n",
    "\n",
    "\n",
    "import functions\n",
    "from functions import *\n",
    "from matplotlib import *\n",
    "\n",
    "import os, sys\n",
    "import time\n",
    "import networkx as nx\n",
    "import geopandas as gpd\n",
    "import pandas as pd\n",
    "\n",
    "# add to your system path the location of the LoadOSM.py and GOSTnet.py scripts\n",
    "sys.path.append(\"../\")\n",
    "import GOSTnets as gn\n",
    "\n",
    "from shapely.geometry import Point\n",
    "\n",
    "pd.set_option('display.max_colwidth', None)\n",
    "pd.set_option('display.max_columns', None)\n",
    "pd.set_option('display.max_rows', None)"
   ]
  },
  {
   "cell_type": "markdown",
   "metadata": {},
   "source": [
    "NCR, Philippines"
   ]
  },
  {
   "cell_type": "code",
   "execution_count": 10,
   "metadata": {
    "scrolled": true
   },
   "outputs": [
    {
     "name": "stdout",
     "output_type": "stream",
     "text": [
      "119 regions need splitting\n",
      "done.44\n",
      "We now have 600 regions of min size 50, 423 will be split in next round\n",
      "We have 423 regions of size 50, 423 with population >0\n"
     ]
    },
    {
     "name": "stderr",
     "output_type": "stream",
     "text": [
      "/opt/conda/lib/python3.8/site-packages/osmnx/boundaries.py:117: UserWarning: The `boundaries` module has been deprecated and will be removed in a future relase. Use the `geocoder` module's `geocode_to_gdf` function instead.\n",
      "  warnings.warn(msg)\n",
      "/opt/conda/lib/python3.8/site-packages/osmnx/boundaries.py:36: UserWarning: The `boundaries` module has been deprecated and will be removed in a future relase. Use the `geocoder` module's `geocode_to_gdf` function instead.\n",
      "  warnings.warn(msg)\n"
     ]
    },
    {
     "name": "stdout",
     "output_type": "stream",
     "text": [
      "All origins:(423, 17); Relevant Origins:(269, 17)\n",
      "Pickled origins\n"
     ]
    },
    {
     "data": {
      "text/html": [
       "<div>\n",
       "<style scoped>\n",
       "    .dataframe tbody tr th:only-of-type {\n",
       "        vertical-align: middle;\n",
       "    }\n",
       "\n",
       "    .dataframe tbody tr th {\n",
       "        vertical-align: top;\n",
       "    }\n",
       "\n",
       "    .dataframe thead th {\n",
       "        text-align: right;\n",
       "    }\n",
       "</style>\n",
       "<table border=\"1\" class=\"dataframe\">\n",
       "  <thead>\n",
       "    <tr style=\"text-align: right;\">\n",
       "      <th></th>\n",
       "      <th>window</th>\n",
       "      <th>left_x</th>\n",
       "      <th>right_x</th>\n",
       "      <th>top_y</th>\n",
       "      <th>bottom_y</th>\n",
       "      <th>left_lon</th>\n",
       "      <th>top_lat</th>\n",
       "      <th>right_lon</th>\n",
       "      <th>bottom_lat</th>\n",
       "      <th>center_lon</th>\n",
       "      <th>center_lat</th>\n",
       "      <th>count</th>\n",
       "      <th>nancount</th>\n",
       "      <th>tot_pop</th>\n",
       "      <th>split</th>\n",
       "      <th>geometry</th>\n",
       "      <th>geo_grid</th>\n",
       "    </tr>\n",
       "  </thead>\n",
       "  <tbody>\n",
       "    <tr>\n",
       "      <th>0</th>\n",
       "      <td>50</td>\n",
       "      <td>0</td>\n",
       "      <td>50</td>\n",
       "      <td>300</td>\n",
       "      <td>350</td>\n",
       "      <td>120.906389</td>\n",
       "      <td>14.701944</td>\n",
       "      <td>120.920278</td>\n",
       "      <td>14.688056</td>\n",
       "      <td>120.913333</td>\n",
       "      <td>14.695000</td>\n",
       "      <td>2500</td>\n",
       "      <td>1</td>\n",
       "      <td>1101.379570</td>\n",
       "      <td>True</td>\n",
       "      <td>POINT (120.91333 14.69500)</td>\n",
       "      <td>POLYGON ((120.9063888888921 14.68805555555067, 120.9063888888921 14.70194444443957, 120.920277777781 14.70194444443957, 120.920277777781 14.68805555555067, 120.9063888888921 14.68805555555067))</td>\n",
       "    </tr>\n",
       "    <tr>\n",
       "      <th>1</th>\n",
       "      <td>50</td>\n",
       "      <td>50</td>\n",
       "      <td>100</td>\n",
       "      <td>300</td>\n",
       "      <td>350</td>\n",
       "      <td>120.920278</td>\n",
       "      <td>14.701944</td>\n",
       "      <td>120.934167</td>\n",
       "      <td>14.688056</td>\n",
       "      <td>120.927222</td>\n",
       "      <td>14.695000</td>\n",
       "      <td>2500</td>\n",
       "      <td>56</td>\n",
       "      <td>2689.352852</td>\n",
       "      <td>True</td>\n",
       "      <td>POINT (120.92722 14.69500)</td>\n",
       "      <td>POLYGON ((120.920277777781 14.68805555555067, 120.920277777781 14.70194444443957, 120.9341666666699 14.70194444443957, 120.9341666666699 14.68805555555067, 120.920277777781 14.68805555555067))</td>\n",
       "    </tr>\n",
       "    <tr>\n",
       "      <th>2</th>\n",
       "      <td>50</td>\n",
       "      <td>50</td>\n",
       "      <td>100</td>\n",
       "      <td>350</td>\n",
       "      <td>400</td>\n",
       "      <td>120.920278</td>\n",
       "      <td>14.688056</td>\n",
       "      <td>120.934167</td>\n",
       "      <td>14.674167</td>\n",
       "      <td>120.927222</td>\n",
       "      <td>14.681111</td>\n",
       "      <td>2500</td>\n",
       "      <td>48</td>\n",
       "      <td>13662.802923</td>\n",
       "      <td>True</td>\n",
       "      <td>POINT (120.92722 14.68111)</td>\n",
       "      <td>POLYGON ((120.920277777781 14.67416666666177, 120.920277777781 14.68805555555067, 120.9341666666699 14.68805555555067, 120.9341666666699 14.67416666666177, 120.920277777781 14.67416666666177))</td>\n",
       "    </tr>\n",
       "    <tr>\n",
       "      <th>3</th>\n",
       "      <td>50</td>\n",
       "      <td>50</td>\n",
       "      <td>100</td>\n",
       "      <td>400</td>\n",
       "      <td>450</td>\n",
       "      <td>120.920278</td>\n",
       "      <td>14.674167</td>\n",
       "      <td>120.934167</td>\n",
       "      <td>14.660278</td>\n",
       "      <td>120.927222</td>\n",
       "      <td>14.667222</td>\n",
       "      <td>2500</td>\n",
       "      <td>34</td>\n",
       "      <td>14416.076197</td>\n",
       "      <td>True</td>\n",
       "      <td>POINT (120.92722 14.66722)</td>\n",
       "      <td>POLYGON ((120.920277777781 14.66027777777287, 120.920277777781 14.67416666666177, 120.9341666666699 14.67416666666177, 120.9341666666699 14.66027777777287, 120.920277777781 14.66027777777287))</td>\n",
       "    </tr>\n",
       "    <tr>\n",
       "      <th>4</th>\n",
       "      <td>50</td>\n",
       "      <td>100</td>\n",
       "      <td>150</td>\n",
       "      <td>150</td>\n",
       "      <td>200</td>\n",
       "      <td>120.934167</td>\n",
       "      <td>14.743611</td>\n",
       "      <td>120.948056</td>\n",
       "      <td>14.729722</td>\n",
       "      <td>120.941111</td>\n",
       "      <td>14.736667</td>\n",
       "      <td>2500</td>\n",
       "      <td>98</td>\n",
       "      <td>3719.568907</td>\n",
       "      <td>True</td>\n",
       "      <td>POINT (120.94111 14.73667)</td>\n",
       "      <td>POLYGON ((120.9341666666699 14.72972222221737, 120.9341666666699 14.74361111110627, 120.9480555555588 14.74361111110627, 120.9480555555588 14.72972222221737, 120.9341666666699 14.72972222221737))</td>\n",
       "    </tr>\n",
       "  </tbody>\n",
       "</table>\n",
       "</div>"
      ],
      "text/plain": [
       "   window  left_x  right_x  top_y  bottom_y    left_lon    top_lat  \\\n",
       "0      50       0       50    300       350  120.906389  14.701944   \n",
       "1      50      50      100    300       350  120.920278  14.701944   \n",
       "2      50      50      100    350       400  120.920278  14.688056   \n",
       "3      50      50      100    400       450  120.920278  14.674167   \n",
       "4      50     100      150    150       200  120.934167  14.743611   \n",
       "\n",
       "    right_lon  bottom_lat  center_lon  center_lat  count  nancount  \\\n",
       "0  120.920278   14.688056  120.913333   14.695000   2500         1   \n",
       "1  120.934167   14.688056  120.927222   14.695000   2500        56   \n",
       "2  120.934167   14.674167  120.927222   14.681111   2500        48   \n",
       "3  120.934167   14.660278  120.927222   14.667222   2500        34   \n",
       "4  120.948056   14.729722  120.941111   14.736667   2500        98   \n",
       "\n",
       "        tot_pop split                    geometry  \\\n",
       "0   1101.379570  True  POINT (120.91333 14.69500)   \n",
       "1   2689.352852  True  POINT (120.92722 14.69500)   \n",
       "2  13662.802923  True  POINT (120.92722 14.68111)   \n",
       "3  14416.076197  True  POINT (120.92722 14.66722)   \n",
       "4   3719.568907  True  POINT (120.94111 14.73667)   \n",
       "\n",
       "                                                                                                                                                                                              geo_grid  \n",
       "0    POLYGON ((120.9063888888921 14.68805555555067, 120.9063888888921 14.70194444443957, 120.920277777781 14.70194444443957, 120.920277777781 14.68805555555067, 120.9063888888921 14.68805555555067))  \n",
       "1     POLYGON ((120.920277777781 14.68805555555067, 120.920277777781 14.70194444443957, 120.9341666666699 14.70194444443957, 120.9341666666699 14.68805555555067, 120.920277777781 14.68805555555067))  \n",
       "2     POLYGON ((120.920277777781 14.67416666666177, 120.920277777781 14.68805555555067, 120.9341666666699 14.68805555555067, 120.9341666666699 14.67416666666177, 120.920277777781 14.67416666666177))  \n",
       "3     POLYGON ((120.920277777781 14.66027777777287, 120.920277777781 14.67416666666177, 120.9341666666699 14.67416666666177, 120.9341666666699 14.66027777777287, 120.920277777781 14.66027777777287))  \n",
       "4  POLYGON ((120.9341666666699 14.72972222221737, 120.9341666666699 14.74361111110627, 120.9480555555588 14.74361111110627, 120.9480555555588 14.72972222221737, 120.9341666666699 14.72972222221737))  "
      ]
     },
     "execution_count": 10,
     "metadata": {},
     "output_type": "execute_result"
    }
   ],
   "source": [
    "from functions import *\n",
    "myorigins = get_origins(\n",
    "    places = [\"NCR,Philippines\"],\n",
    "    population_file = \"./data/population_phl_ncr_2018-10-01.tif\", \n",
    "    window_size = 50,\n",
    "    use_pickle = False,\n",
    "    do_pickle_result = True\n",
    ")\n",
    "myorigins.head()"
   ]
  },
  {
   "cell_type": "code",
   "execution_count": 11,
   "metadata": {},
   "outputs": [],
   "source": [
    "from functions import *\n",
    "\n",
    "\n",
    "centers = plot_df_single(myorigins, \n",
    "                         geo_col = 'geometry', \n",
    "                         alpha = 1, \n",
    "                         color='magenta')\n",
    "\n",
    "grid = plot_df_single(myorigins, \n",
    "                         geo_col = 'geo_grid', \n",
    "                         alpha = 0.3, \n",
    "                         color='cyan')\n",
    "res = centers * grid"
   ]
  },
  {
   "cell_type": "code",
   "execution_count": 13,
   "metadata": {},
   "outputs": [
    {
     "data": {
      "text/plain": [
       "\u001b[0;31mSignature:\u001b[0m\n",
       "\u001b[0mhvplot\u001b[0m\u001b[0;34m.\u001b[0m\u001b[0msave\u001b[0m\u001b[0;34m(\u001b[0m\u001b[0;34m\u001b[0m\n",
       "\u001b[0;34m\u001b[0m    \u001b[0mobj\u001b[0m\u001b[0;34m,\u001b[0m\u001b[0;34m\u001b[0m\n",
       "\u001b[0;34m\u001b[0m    \u001b[0mfilename\u001b[0m\u001b[0;34m,\u001b[0m\u001b[0;34m\u001b[0m\n",
       "\u001b[0;34m\u001b[0m    \u001b[0mfmt\u001b[0m\u001b[0;34m=\u001b[0m\u001b[0;34m'auto'\u001b[0m\u001b[0;34m,\u001b[0m\u001b[0;34m\u001b[0m\n",
       "\u001b[0;34m\u001b[0m    \u001b[0mbackend\u001b[0m\u001b[0;34m=\u001b[0m\u001b[0;32mNone\u001b[0m\u001b[0;34m,\u001b[0m\u001b[0;34m\u001b[0m\n",
       "\u001b[0;34m\u001b[0m    \u001b[0mresources\u001b[0m\u001b[0;34m=\u001b[0m\u001b[0;34m'cdn'\u001b[0m\u001b[0;34m,\u001b[0m\u001b[0;34m\u001b[0m\n",
       "\u001b[0;34m\u001b[0m    \u001b[0mtoolbar\u001b[0m\u001b[0;34m=\u001b[0m\u001b[0;32mNone\u001b[0m\u001b[0;34m,\u001b[0m\u001b[0;34m\u001b[0m\n",
       "\u001b[0;34m\u001b[0m    \u001b[0mtitle\u001b[0m\u001b[0;34m=\u001b[0m\u001b[0;32mNone\u001b[0m\u001b[0;34m,\u001b[0m\u001b[0;34m\u001b[0m\n",
       "\u001b[0;34m\u001b[0m    \u001b[0;34m**\u001b[0m\u001b[0mkwargs\u001b[0m\u001b[0;34m,\u001b[0m\u001b[0;34m\u001b[0m\n",
       "\u001b[0;34m\u001b[0m\u001b[0;34m)\u001b[0m\u001b[0;34m\u001b[0m\u001b[0;34m\u001b[0m\u001b[0m\n",
       "\u001b[0;31mDocstring:\u001b[0m\n",
       "Saves the supplied object to file.\n",
       "\n",
       "The available output formats depend on the backend being used. By\n",
       "default and if the filename is a string the output format will be\n",
       "inferred from the file extension. Otherwise an explicit format\n",
       "will need to be specified. For ambiguous file extensions such as\n",
       "html it may be necessary to specify an explicit fmt to override\n",
       "the default, e.g. in the case of 'html' output the widgets will\n",
       "default to fmt='widgets', which may be changed to scrubber widgets\n",
       "using fmt='scrubber'.\n",
       "\n",
       "Arguments\n",
       "---------\n",
       "obj: HoloViews object\n",
       "    The HoloViews object to save to file\n",
       "filename: string or IO object\n",
       "    The filename or BytesIO/StringIO object to save to\n",
       "fmt: string\n",
       "    The format to save the object as, e.g. png, svg, html, or gif\n",
       "    and if widgets are desired either 'widgets' or 'scrubber'\n",
       "backend: string\n",
       "    A valid HoloViews rendering backend, e.g. bokeh or matplotlib\n",
       "resources: string or bokeh.resource.Resources\n",
       "    Bokeh resources used to load bokehJS components. Defaults to\n",
       "    CDN, to embed resources inline for offline usage use 'inline'\n",
       "    or bokeh.resources.INLINE.\n",
       "toolbar: bool\n",
       "    Whether to include toolbars in the exported plot\n",
       "title: string\n",
       "    Custom title for exported HTML file\n",
       "**kwargs: dict\n",
       "    Additional keyword arguments passed to the renderer,\n",
       "    e.g. fps for animations\n",
       "\u001b[0;31mFile:\u001b[0m      /opt/conda/lib/python3.8/site-packages/holoviews/util/__init__.py\n",
       "\u001b[0;31mType:\u001b[0m      function\n"
      ]
     },
     "metadata": {},
     "output_type": "display_data"
    }
   ],
   "source": [
    "hvplot.save?"
   ]
  },
  {
   "cell_type": "code",
   "execution_count": null,
   "metadata": {},
   "outputs": [],
   "source": [
    "gpd.__version__"
   ]
  },
  {
   "cell_type": "code",
   "execution_count": null,
   "metadata": {},
   "outputs": [],
   "source": [
    "#Get Destinations\n",
    "from functions import *\n",
    "mydest = get_destinations(\n",
    "    places = [\"NCR,Philippines\"],\n",
    "    tags = {'amenity':['hospital','clinic']}\n",
    ")\n",
    "\n",
    "mydest.head()"
   ]
  },
  {
   "cell_type": "code",
   "execution_count": null,
   "metadata": {},
   "outputs": [],
   "source": [
    "import geoviews as gv\n",
    "tiles = gv.tile_sources.StamenLabels\n",
    "\n",
    "tiles * plot_df_single(mydest, color='blue', hover_cols = ['amenity']) "
   ]
  },
  {
   "cell_type": "code",
   "execution_count": null,
   "metadata": {},
   "outputs": [],
   "source": [
    "#mydest_amenity = mydest.loc[mydest.amenity.notna(), :].copy()\n",
    "#mydest_no_amenity = mydest.loc[mydest.amenity.isna(), :].copy()\n",
    "\n",
    "plot_df_single(mydest, color='blue', hover_cols = ['amenity']) \n"
   ]
  },
  {
   "cell_type": "code",
   "execution_count": null,
   "metadata": {
    "scrolled": true
   },
   "outputs": [],
   "source": [
    "from functions import *\n",
    "myorigins = get_origins(\n",
    "    places = [\"NCR,Philippines\"],\n",
    "    population_file = \"./data/population_phl_ncr_2018-10-01.tif\", \n",
    "    window_size = 50,\n",
    "    use_pickle = False,\n",
    "    do_pickle_result = True\n",
    ")\n",
    "myorigins = origins_snap_osm(myorigins, \"./data/networks/ncr_unclean_1.pickle\")\n",
    "myorigins.head()"
   ]
  },
  {
   "cell_type": "code",
   "execution_count": null,
   "metadata": {},
   "outputs": [],
   "source": [
    "plot_df_single(myorigins, 'geometry', color = 'blue', alpha = 0.8, hover_cols=['tot_pop']) \\\n",
    "* plot_df_single(myorigins, 'center_geom', color='red', alpha = 0.4, hover_cols=['tot_pop']) \\\n",
    "* plot_df_single(myorigins, 'geo_grid', color = 'cyan', alpha = 0.2, hover_cols=['tot_pop'])"
   ]
  },
  {
   "cell_type": "code",
   "execution_count": null,
   "metadata": {},
   "outputs": [],
   "source": [
    "new_geos = myorigins[['nn_geo']].copy()\n",
    "grids = myorigins[['geo_grid']].copy()\n",
    "\n",
    "new_geos = gpd.GeoDataFrame(new_geos, geometry=new_geos['nn_geo'])\n",
    "grids = gpd.GeoDataFrame(grids, geometry=grids['geo_grid'])\n",
    "\n",
    "new_geos = new_geos.drop('nn_geo', axis=1).set_crs(myorigins.crs)\n",
    "grids = grids.drop('geo_grid', axis=1).set_crs(myorigins.crs)\n",
    "\n",
    "new_geos.loc[grids.geometry.intersects(new_geos.geometry) == False, :]"
   ]
  },
  {
   "cell_type": "code",
   "execution_count": null,
   "metadata": {},
   "outputs": [],
   "source": [
    "gdebug = myorigins.iloc[[0, 227], :].copy()\n",
    "plot_df_single(gdebug, 'nn_geo', color = 'blue', alpha = 0.8) \\\n",
    "* plot_df_single(gdebug, 'geometry', color='red', alpha = 0.8) \\\n",
    "* plot_df_single(gdebug, 'geo_grid', color = 'cyan', alpha = 0.2)"
   ]
  },
  {
   "cell_type": "code",
   "execution_count": null,
   "metadata": {
    "scrolled": true
   },
   "outputs": [],
   "source": [
    "from functions import *\n",
    "origins_walking = get_travel_times_mapbox(origins = myorigins,\n",
    "                                  destinations = mydest,\n",
    "                                  mode = 'driving-traffic',\n",
    "                                  d_name = 'hosp_or_clinic',\n",
    "                                  dest_id_col = \"osmid\",\n",
    "                                  n_keep = 2,\n",
    "                                  num_retries = 2,\n",
    "                                  starting_token_index = 0,\n",
    "                                  use_pickle=False,\n",
    "                                  do_pickle_result=True, batch_limit=2)\n"
   ]
  },
  {
   "cell_type": "code",
   "execution_count": null,
   "metadata": {},
   "outputs": [],
   "source": [
    "origins_walking.head()"
   ]
  },
  {
   "cell_type": "code",
   "execution_count": null,
   "metadata": {
    "scrolled": true
   },
   "outputs": [],
   "source": [
    "import functions\n",
    "from functions import *\n",
    "\n",
    "origins_walking = get_travel_times_mapbox(origins = myorigins,\n",
    "                                  destinations = mydest,\n",
    "                                  mode = 'walking',\n",
    "                                  d_name = 'hosp_or_clinic',\n",
    "                                  dest_id_col = \"osmid\",\n",
    "                                  n_keep = 2,\n",
    "                                  num_retries = 2,\n",
    "                                  starting_token_index = 0,\n",
    "                                  use_pickle=False,\n",
    "                                  do_pickle_result=True, batch_limit=10)\n",
    "\n",
    "origins_walking = origins_walking.loc[origins_walking['mins_to_hosp_or_clinic'] > -1, :]\n",
    "\n",
    "\n",
    "\n",
    "origins_driving = get_travel_times_mapbox(origins = myorigins,\n",
    "                                  destinations = mydest,\n",
    "                                  mode = 'driving',\n",
    "                                  d_name = 'hosp_or_clinic',\n",
    "                                  dest_id_col = \"osmid\",\n",
    "                                  n_keep = 2,\n",
    "                                  num_retries = 2,\n",
    "                                  starting_token_index = 0,\n",
    "                                  use_pickle=False,\n",
    "                                  do_pickle_result=True, batch_limit=10)\n",
    "\n",
    "origins_driving = origins_driving.loc[origins_driving['mins_to_hosp_or_clinic'] > -1, :]\n",
    "\n"
   ]
  },
  {
   "cell_type": "code",
   "execution_count": null,
   "metadata": {},
   "outputs": [],
   "source": [
    "origins_walking.columns"
   ]
  },
  {
   "cell_type": "code",
   "execution_count": null,
   "metadata": {},
   "outputs": [],
   "source": [
    "debug_compare_cols = ['tot_pop', \n",
    "                      'geometry', \n",
    "                      'geo_grid', \n",
    "                      'center_geom',\n",
    "                      'mins_to_hosp_or_clinic',\n",
    "                      'dist_to_hosp_or_clinic',\n",
    "                      'mb_snapped_src_dist',\n",
    "                      'mb_snapped_src_geom']\n",
    "\n",
    "ow = origins_walking[debug_compare_cols]\n",
    "od = origins_driving[debug_compare_cols]\n",
    "\n"
   ]
  },
  {
   "cell_type": "code",
   "execution_count": null,
   "metadata": {
    "scrolled": true
   },
   "outputs": [],
   "source": [
    "big_snaps_w = ow.loc[ow.mb_snapped_src_dist > 0, :]\n",
    "big_snaps_d = od.loc[od.mb_snapped_src_dist > 0, :]\n",
    "\n",
    "big_snaps_w.sort_values(by='mb_snapped_src_dist', ascending=False).head()"
   ]
  },
  {
   "cell_type": "code",
   "execution_count": null,
   "metadata": {
    "scrolled": true
   },
   "outputs": [],
   "source": [
    "big_snaps_d.sort_values(by='mb_snapped_src_dist', ascending=False).head()"
   ]
  },
  {
   "cell_type": "code",
   "execution_count": null,
   "metadata": {},
   "outputs": [],
   "source": [
    "plot_df_single(big_snaps_w, 'geometry', color = 'blue', alpha = 0.8, hover_cols = ['index']) \\\n",
    "* plot_df_single(big_snaps_w, 'mb_snapped_src_geom', color='red', alpha = 0.8, hover_cols = ['index']) \\\n",
    "* plot_df_single(big_snaps_w, 'geo_grid', color = 'cyan', alpha = 0.2)"
   ]
  },
  {
   "cell_type": "code",
   "execution_count": null,
   "metadata": {},
   "outputs": [],
   "source": [
    "plot_df_single(od.iloc[[15,16], :], 'geometry', color = 'blue', alpha = 0.8, hover_cols = ['index']) \\\n",
    "* plot_df_single(od.iloc[[15,16], :], 'mb_snapped_src_geom', color='red', alpha = 0.8, hover_cols = ['index']) \\\n",
    "* plot_df_single(od.iloc[[15,16], :], 'geo_grid', color = 'cyan', alpha = 0.2)"
   ]
  },
  {
   "cell_type": "code",
   "execution_count": null,
   "metadata": {},
   "outputs": [],
   "source": [
    "plot_df_single(big_snaps_d, 'geometry', color = 'blue', alpha = 0.8) \\\n",
    "* plot_df_single(big_snaps_d, 'mb_snapped_src_geom', color='red', alpha = 0.8) \\\n",
    "* plot_df_single(big_snaps_d, 'geo_grid', color = 'cyan', alpha = 0.2)"
   ]
  },
  {
   "cell_type": "code",
   "execution_count": null,
   "metadata": {},
   "outputs": [],
   "source": [
    "ow = origins_walking[[\n",
    "    \"tot_pop\",\n",
    "    #\"geometry\",\n",
    "    #\"geo_grid\",\n",
    "    \"hrs_to_hosp_or_clinic\",\n",
    "    \"mins_to_hosp_or_clinic\",  \n",
    "    \n",
    "    'closest_hosp_or_clinic_geodetic_dist',\n",
    "    'dist_to_hosp_or_clinic',\n",
    "    \n",
    "    'closest_hosp_or_clinic_geom_lon_x',\n",
    "    'closest_hosp_or_clinic_geom_lat_y',\n",
    "    \n",
    "    \"mb_snapped_dest_lon_x\",\n",
    "    \"mb_snapped_dest_lat_y\",\n",
    "    \n",
    "    'mb_snapped_dest_name',\n",
    "    \"closest_hosp_or_clinic_name\",\n",
    "    'mb_snapped_src_name',\n",
    "    \n",
    "    'mb_snapped_dest_dist',\n",
    "    \n",
    "    'mb_snapped_src_dist',\n",
    "    \"center_lon\",\n",
    "    \"center_lat\",\n",
    "    'mb_snapped_src_lon_x', \n",
    "    'mb_snapped_src_lat_y',\n",
    "    #'closest_hosp_or_clinic_geom', \n",
    "    #'mb_snapped_dest_geom',\n",
    "    #'mb_snapped_src_geom'\n",
    "    \n",
    "]]\n",
    "ow.tail(7)"
   ]
  },
  {
   "cell_type": "code",
   "execution_count": null,
   "metadata": {},
   "outputs": [],
   "source": [
    "od = origins_driving[[\n",
    "    \"tot_pop\",\n",
    "    #\"geometry\",\n",
    "    #\"geo_grid\",\n",
    "    \"hrs_to_hosp_or_clinic\",\n",
    "    \"mins_to_hosp_or_clinic\",  \n",
    "    \n",
    "    'closest_hosp_or_clinic_geodetic_dist',\n",
    "    'dist_to_hosp_or_clinic',\n",
    "    \n",
    "    'closest_hosp_or_clinic_geom_lon_x',\n",
    "    'closest_hosp_or_clinic_geom_lat_y',\n",
    "    \n",
    "    \"mb_snapped_dest_lon_x\",\n",
    "    \"mb_snapped_dest_lat_y\",\n",
    "    \n",
    "    'mb_snapped_dest_name',\n",
    "    \"closest_hosp_or_clinic_name\",\n",
    "    'mb_snapped_src_name',\n",
    "    \n",
    "    'mb_snapped_dest_dist',\n",
    "    \n",
    "    'mb_snapped_src_dist',\n",
    "    \"center_lon\",\n",
    "    \"center_lat\",  'mb_snapped_src_lon_x',  'mb_snapped_src_lat_y',\n",
    "    #'closest_hosp_or_clinic_geom', \n",
    "    #'mb_snapped_dest_geom',\n",
    "    #'mb_snapped_src_geom'\n",
    "]]\n",
    "od.tail(7)"
   ]
  },
  {
   "cell_type": "code",
   "execution_count": null,
   "metadata": {},
   "outputs": [],
   "source": [
    "def get_calc(name):\n",
    "    calcs.loc[:, name] = ow.loc[:, name] - od.loc[:, name]\n",
    "\n",
    "calcs = od[['tot_pop']].copy()\n",
    "for c in [\"tot_pop\", \n",
    "          #\"hrs_to_hosp_or_clinic\",\n",
    "          \"mins_to_hosp_or_clinic\",  \n",
    "          #'closest_hosp_or_clinic_geodetic_dist',\n",
    "          'dist_to_hosp_or_clinic',\n",
    "          'closest_hosp_or_clinic_geom_lon_x',\n",
    "          'closest_hosp_or_clinic_geom_lat_y',\n",
    "    \n",
    "          \"mb_snapped_dest_lon_x\",\n",
    "          \"mb_snapped_dest_lat_y\",\n",
    "    \n",
    "    \n",
    "    \n",
    "          'mb_snapped_dest_dist',\n",
    "    \n",
    "          'mb_snapped_src_dist',\n",
    "          \"center_lon\",\n",
    "          \"center_lat\",  \n",
    "          'mb_snapped_src_lon_x',  \n",
    "          'mb_snapped_src_lat_y']:\n",
    "    get_calc(c)\n",
    "\n",
    "\n",
    "calcs.loc[calcs.dist_to_hosp_or_clinic < -500, :]"
   ]
  },
  {
   "cell_type": "code",
   "execution_count": null,
   "metadata": {},
   "outputs": [],
   "source": [
    "ow_probs = ow.iloc[calcs.loc[calcs.dist_to_hosp_or_clinic < -500, :].index.tolist()]\n",
    "ow_probs"
   ]
  },
  {
   "cell_type": "code",
   "execution_count": null,
   "metadata": {},
   "outputs": [],
   "source": [
    "od_probs = od.iloc[calcs.loc[calcs.dist_to_hosp_or_clinic < -500, :].index.tolist()]\n",
    "od_probs\n"
   ]
  },
  {
   "cell_type": "code",
   "execution_count": null,
   "metadata": {},
   "outputs": [],
   "source": [
    "colors =  ['red', 'blue', 'green', 'purple', 'orange', 'darkred',\n",
    "         'lightred', 'beige', 'darkblue', 'darkgreen', 'cadetblue',\n",
    "         'darkpurple', 'white', 'pink', 'lightblue', 'lightgreen',\n",
    "         'gray', 'black', 'lightgray']"
   ]
  },
  {
   "cell_type": "code",
   "execution_count": null,
   "metadata": {},
   "outputs": [],
   "source": [
    "import os \n",
    "import folium\n",
    "from folium import plugins\n",
    "\n",
    "m = folium.Map(location=[14.724722, 120.984167], zoom_start=13)\n",
    "\n",
    "counter = 0\n",
    "icon = \"shopping-cart\"\n",
    "\n",
    "for ix, row in od_probs.iterrows():\n",
    "    mb_snapped_src = [row[\"mb_snapped_src_lat_y\"], row[\"mb_snapped_src_lon_x\"]]\n",
    "    mb_snapped_dest = [row[\"mb_snapped_dest_lat_y\"], row[\"mb_snapped_dest_lon_x\"]]\n",
    "    osm_hospital = [row[\"closest_hosp_or_clinic_geom_lat_y\"], row[\"closest_hosp_or_clinic_geom_lon_x\"]]\n",
    "    center = [row[\"center_lat\"], row[\"center_lon\"]]\n",
    "\n",
    "    \n",
    "    folium.Marker(\n",
    "        location=mb_snapped_src,\n",
    "        popup=f\"IX: {ix} src_snapped\",\n",
    "        icon=folium.Icon(color=colors[counter], icon=icon)\n",
    "    ).add_to(m)\n",
    "    \n",
    "    folium.Marker(\n",
    "        location=mb_snapped_dest,\n",
    "        popup=f\"IX: {ix} dest_snapped\",\n",
    "        icon=folium.Icon(color=colors[counter], icon=icon)\n",
    "    ).add_to(m)\n",
    "    \n",
    "    folium.Marker(\n",
    "        location=osm_hospital,\n",
    "        popup=f\"IX: {ix} osm_hospital\",\n",
    "        icon=folium.Icon(color=colors[counter], icon=icon)\n",
    "    ).add_to(m)\n",
    "    \n",
    "    folium.Marker(\n",
    "        location=center,\n",
    "        popup=f\"IX: {ix} center\",\n",
    "        icon=folium.Icon(color=colors[counter], icon=icon)\n",
    "    ).add_to(m)\n",
    "    \n",
    "    counter = counter + 1\n",
    "    \n",
    "    \n",
    "    \n",
    "\n",
    "m"
   ]
  },
  {
   "cell_type": "code",
   "execution_count": null,
   "metadata": {},
   "outputs": [],
   "source": [
    "m = folium.Map(location=[14.724722, 120.984167], zoom_start=13)\n",
    "\n",
    "counter = 0\n",
    "icon = \"play\"\n",
    "\n",
    "for ix, row in ow_probs.iterrows():\n",
    "    mb_snapped_src = [row[\"mb_snapped_src_lat_y\"], row[\"mb_snapped_src_lon_x\"]]\n",
    "    mb_snapped_dest = [row[\"mb_snapped_dest_lat_y\"], row[\"mb_snapped_dest_lon_x\"]]\n",
    "    osm_hospital = [row[\"closest_hosp_or_clinic_geom_lat_y\"], row[\"closest_hosp_or_clinic_geom_lon_x\"]]\n",
    "    center = [row[\"center_lat\"], row[\"center_lon\"]]\n",
    "\n",
    "    \n",
    "    folium.Marker(\n",
    "        location=mb_snapped_src,\n",
    "        popup=f\"IX: {ix} src_snapped\",\n",
    "        icon=folium.Icon(color=colors[counter], icon=icon)\n",
    "    ).add_to(m)\n",
    "    \n",
    "    folium.Marker(\n",
    "        location=mb_snapped_dest,\n",
    "        popup=f\"IX: {ix} dest_snapped\",\n",
    "        icon=folium.Icon(color=colors[counter], icon=icon)\n",
    "    ).add_to(m)\n",
    "    \n",
    "    folium.Marker(\n",
    "        location=osm_hospital,\n",
    "        popup=f\"IX: {ix} osm_hospital\",\n",
    "        icon=folium.Icon(color=colors[counter], icon=icon)\n",
    "    ).add_to(m)\n",
    "    \n",
    "    folium.Marker(\n",
    "        location=center,\n",
    "        popup=f\"IX: {ix} center\",\n",
    "        icon=folium.Icon(color=colors[counter], icon=icon)\n",
    "    ).add_to(m)\n",
    "    \n",
    "    counter = counter + 1\n",
    "m"
   ]
  },
  {
   "cell_type": "code",
   "execution_count": null,
   "metadata": {},
   "outputs": [],
   "source": []
  }
 ],
 "metadata": {
  "kernelspec": {
   "display_name": "Python 3",
   "language": "python",
   "name": "python3"
  },
  "language_info": {
   "codemirror_mode": {
    "name": "ipython",
    "version": 3
   },
   "file_extension": ".py",
   "mimetype": "text/x-python",
   "name": "python",
   "nbconvert_exporter": "python",
   "pygments_lexer": "ipython3",
   "version": "3.8.4"
  }
 },
 "nbformat": 4,
 "nbformat_minor": 4
}
