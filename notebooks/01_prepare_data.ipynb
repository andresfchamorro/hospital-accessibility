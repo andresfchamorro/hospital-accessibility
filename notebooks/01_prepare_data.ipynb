{
 "cells": [
  {
   "cell_type": "markdown",
   "metadata": {},
   "source": [
    "# Prepare Data"
   ]
  },
  {
   "cell_type": "markdown",
   "metadata": {},
   "source": [
    "## Get Bounds"
   ]
  },
  {
   "cell_type": "code",
   "execution_count": 25,
   "metadata": {},
   "outputs": [
    {
     "name": "stdout",
     "output_type": "stream",
     "text": [
      "The autoreload extension is already loaded. To reload it, use:\n",
      "  %reload_ext autoreload\n"
     ]
    }
   ],
   "source": [
    "import pandas as pd\n",
    "import geopandas as gpd\n",
    "from functions import *\n",
    "\n",
    "\n",
    "# This is a Jupyter Notebook extension which reloads all of the modules whenever you run the code\n",
    "# This is optional but good if you are modifying and testing source code\n",
    "%load_ext autoreload\n",
    "%autoreload 2\n",
    "\n",
    "bounds_list = []"
   ]
  },
  {
   "cell_type": "code",
   "execution_count": 26,
   "metadata": {},
   "outputs": [],
   "source": [
    "ph_bounds = gpd.read_file(\"./data/bounds/phl_admbnda_adm1_psa_namria_20200529.shp\")\n"
   ]
  },
  {
   "cell_type": "code",
   "execution_count": 42,
   "metadata": {},
   "outputs": [
    {
     "data": {
      "text/html": [
       "<div>\n",
       "<style scoped>\n",
       "    .dataframe tbody tr th:only-of-type {\n",
       "        vertical-align: middle;\n",
       "    }\n",
       "\n",
       "    .dataframe tbody tr th {\n",
       "        vertical-align: top;\n",
       "    }\n",
       "\n",
       "    .dataframe thead th {\n",
       "        text-align: right;\n",
       "    }\n",
       "</style>\n",
       "<table border=\"1\" class=\"dataframe\">\n",
       "  <thead>\n",
       "    <tr style=\"text-align: right;\">\n",
       "      <th></th>\n",
       "      <th>ADM1_EN</th>\n",
       "      <th>ADM0_EN</th>\n",
       "      <th>geometry</th>\n",
       "      <th>minx</th>\n",
       "      <th>miny</th>\n",
       "      <th>maxx</th>\n",
       "      <th>maxy</th>\n",
       "      <th>bbox</th>\n",
       "    </tr>\n",
       "  </thead>\n",
       "  <tbody>\n",
       "    <tr>\n",
       "      <th>0</th>\n",
       "      <td>National Capital Region</td>\n",
       "      <td>Philippines (the)</td>\n",
       "      <td>POLYGON ((121.03842 14.78525, 121.03876 14.785...</td>\n",
       "      <td>120.906395</td>\n",
       "      <td>14.351730</td>\n",
       "      <td>121.135036</td>\n",
       "      <td>14.785292</td>\n",
       "      <td>120.90639543200007,14.351729568000053,121.1350...</td>\n",
       "    </tr>\n",
       "    <tr>\n",
       "      <th>1</th>\n",
       "      <td>Autonomous Region in Muslim Mindanao</td>\n",
       "      <td>Philippines (the)</td>\n",
       "      <td>MULTIPOLYGON (((119.46876 4.59360, 119.46881 4...</td>\n",
       "      <td>118.064236</td>\n",
       "      <td>4.587294</td>\n",
       "      <td>125.007743</td>\n",
       "      <td>8.163487</td>\n",
       "      <td>118.06423634800001,4.587294497000073,125.00774...</td>\n",
       "    </tr>\n",
       "  </tbody>\n",
       "</table>\n",
       "</div>"
      ],
      "text/plain": [
       "                                ADM1_EN            ADM0_EN  \\\n",
       "0               National Capital Region  Philippines (the)   \n",
       "1  Autonomous Region in Muslim Mindanao  Philippines (the)   \n",
       "\n",
       "                                            geometry        minx       miny  \\\n",
       "0  POLYGON ((121.03842 14.78525, 121.03876 14.785...  120.906395  14.351730   \n",
       "1  MULTIPOLYGON (((119.46876 4.59360, 119.46881 4...  118.064236   4.587294   \n",
       "\n",
       "         maxx       maxy                                               bbox  \n",
       "0  121.135036  14.785292  120.90639543200007,14.351729568000053,121.1350...  \n",
       "1  125.007743   8.163487  118.06423634800001,4.587294497000073,125.00774...  "
      ]
     },
     "execution_count": 42,
     "metadata": {},
     "output_type": "execute_result"
    }
   ],
   "source": [
    "bounds_list = []\n",
    "\n",
    "# Add NCR Region\n",
    "bounds_list.append(ph_bounds.loc[ph_bounds.ADM1_PCODE==\"PH130000000\",:])\n",
    "\n",
    "# Add ARMM Region\n",
    "bounds_list.append(ph_bounds.loc[ph_bounds.ADM1_PCODE==\"PH150000000\",:])\n",
    "\n",
    "\n",
    "# Combine bounds into a single DF\n",
    "bounds = pd.concat(bounds_list)\n",
    "\n",
    "# Select only relevant columns\n",
    "bounds = bounds[[\"ADM1_EN\",\"ADM0_EN\",\"geometry\"]]\n",
    "\n",
    "# Make sure projection is what we expect\n",
    "bounds = bounds.to_crs(\"epsg:4326\")\n",
    "\n",
    "\n",
    "# Clean up the index\n",
    "bounds = bounds.reset_index(drop=True)\n",
    "\n",
    "bounds = pd.concat([bounds, bounds['geometry'].bounds], axis=1)\n",
    "bounds['bbox'] = bounds['geometry'].apply(lambda x: \",\".join([str(b) for b in x.bounds]))\n",
    "\n",
    "bounds.head()"
   ]
  },
  {
   "cell_type": "code",
   "execution_count": 43,
   "metadata": {},
   "outputs": [
    {
     "ename": "FileNotFoundError",
     "evalue": "[Errno 2] No such file or directory: './data/pickles/bounds.pickle'",
     "output_type": "error",
     "traceback": [
      "\u001b[0;31m---------------------------------------------------------------------------\u001b[0m",
      "\u001b[0;31mFileNotFoundError\u001b[0m                         Traceback (most recent call last)",
      "\u001b[0;32m<ipython-input-43-82794418fdb8>\u001b[0m in \u001b[0;36m<module>\u001b[0;34m\u001b[0m\n\u001b[1;32m      1\u001b[0m \u001b[0;31m# Pickle the Bounds\u001b[0m\u001b[0;34m\u001b[0m\u001b[0;34m\u001b[0m\u001b[0;34m\u001b[0m\u001b[0m\n\u001b[1;32m      2\u001b[0m \u001b[0;31m#os.mkdir(\"./data/pickles/\")\u001b[0m\u001b[0;34m\u001b[0m\u001b[0;34m\u001b[0m\u001b[0;34m\u001b[0m\u001b[0m\n\u001b[0;32m----> 3\u001b[0;31m \u001b[0mpickle_data\u001b[0m\u001b[0;34m(\u001b[0m\u001b[0mbounds\u001b[0m\u001b[0;34m,\u001b[0m \u001b[0;34m\"./data/pickles/bounds.pickle\"\u001b[0m\u001b[0;34m)\u001b[0m\u001b[0;34m\u001b[0m\u001b[0;34m\u001b[0m\u001b[0m\n\u001b[0m",
      "\u001b[0;32m~/work/functions.py\u001b[0m in \u001b[0;36mpickle_data\u001b[0;34m(df, pickle_path)\u001b[0m\n\u001b[1;32m     66\u001b[0m \u001b[0;34m\u001b[0m\u001b[0m\n\u001b[1;32m     67\u001b[0m \u001b[0;32mdef\u001b[0m \u001b[0mpickle_data\u001b[0m\u001b[0;34m(\u001b[0m\u001b[0mdf\u001b[0m\u001b[0;34m,\u001b[0m \u001b[0mpickle_path\u001b[0m\u001b[0;34m)\u001b[0m\u001b[0;34m:\u001b[0m\u001b[0;34m\u001b[0m\u001b[0;34m\u001b[0m\u001b[0m\n\u001b[0;32m---> 68\u001b[0;31m      \u001b[0;32mwith\u001b[0m \u001b[0mopen\u001b[0m \u001b[0;34m(\u001b[0m\u001b[0mpickle_path\u001b[0m\u001b[0;34m,\u001b[0m \u001b[0;34m\"wb\"\u001b[0m\u001b[0;34m)\u001b[0m \u001b[0;32mas\u001b[0m \u001b[0mhandle\u001b[0m\u001b[0;34m:\u001b[0m\u001b[0;34m\u001b[0m\u001b[0;34m\u001b[0m\u001b[0m\n\u001b[0m\u001b[1;32m     69\u001b[0m             \u001b[0mpickle\u001b[0m\u001b[0;34m.\u001b[0m\u001b[0mdump\u001b[0m\u001b[0;34m(\u001b[0m\u001b[0mdf\u001b[0m\u001b[0;34m,\u001b[0m \u001b[0mhandle\u001b[0m\u001b[0;34m,\u001b[0m \u001b[0mprotocol\u001b[0m\u001b[0;34m=\u001b[0m\u001b[0mpickle\u001b[0m\u001b[0;34m.\u001b[0m\u001b[0mHIGHEST_PROTOCOL\u001b[0m\u001b[0;34m)\u001b[0m\u001b[0;34m\u001b[0m\u001b[0;34m\u001b[0m\u001b[0m\n\u001b[1;32m     70\u001b[0m             \u001b[0mprint\u001b[0m\u001b[0;34m(\u001b[0m\u001b[0;34m\"Pickled data\"\u001b[0m\u001b[0;34m)\u001b[0m\u001b[0;34m\u001b[0m\u001b[0;34m\u001b[0m\u001b[0m\n",
      "\u001b[0;31mFileNotFoundError\u001b[0m: [Errno 2] No such file or directory: './data/pickles/bounds.pickle'"
     ]
    }
   ],
   "source": [
    "# Pickle the Bounds\n",
    "#os.mkdir(\"./data/pickles/\")\n",
    "pickle_data(bounds, \"./data/pickles/bounds.pickle\")"
   ]
  },
  {
   "cell_type": "code",
   "execution_count": 16,
   "metadata": {},
   "outputs": [
    {
     "ename": "SyntaxError",
     "evalue": "unexpected EOF while parsing (<ipython-input-16-cb300c894dd1>, line 3)",
     "output_type": "error",
     "traceback": [
      "\u001b[0;36m  File \u001b[0;32m\"<ipython-input-16-cb300c894dd1>\"\u001b[0;36m, line \u001b[0;32m3\u001b[0m\n\u001b[0;31m    for reg_row in bounds.iterrows():\u001b[0m\n\u001b[0m                                     ^\u001b[0m\n\u001b[0;31mSyntaxError\u001b[0m\u001b[0;31m:\u001b[0m unexpected EOF while parsing\n"
     ]
    }
   ],
   "source": [
    "# Each Region should Have its Own Clip.\n",
    "# Otherwise the TIFF will cover the whole country and it will be inefficient.\n",
    "for reg_row in bounds.iterrows():\n",
    "    "
   ]
  },
  {
   "cell_type": "code",
   "execution_count": null,
   "metadata": {},
   "outputs": [],
   "source": []
  }
 ],
 "metadata": {
  "kernelspec": {
   "display_name": "Python 3",
   "language": "python",
   "name": "python3"
  },
  "language_info": {
   "codemirror_mode": {
    "name": "ipython",
    "version": 3
   },
   "file_extension": ".py",
   "mimetype": "text/x-python",
   "name": "python",
   "nbconvert_exporter": "python",
   "pygments_lexer": "ipython3",
   "version": "3.8.4"
  }
 },
 "nbformat": 4,
 "nbformat_minor": 4
}
