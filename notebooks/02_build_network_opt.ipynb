{
 "cells": [
  {
   "cell_type": "markdown",
   "metadata": {},
   "source": [
    "# Create GostNets Road Network for the Region\n",
    "This notebook walks you through building a road network based on OSM Data.  We will use this network in the next notebook for snapping origins to the closest road.  \n",
    "\n",
    "This is only needed if you want to increase the accuracy of your analysis.  What we found, is often when we rely on grid centroids, and use those origins for routing, the snap distance can distort the analysis.\n",
    "\n",
    "This is why we choose to do our own snapping here. \n",
    "\n",
    "We followed the [GOSTNets Tutorial](https://github.com/worldbank/GOSTnets/tree/master/Tutorials) to make this work.  If you get stuck, it would be helpful to look at their tutorials."
   ]
  },
  {
   "cell_type": "code",
   "execution_count": 10,
   "metadata": {},
   "outputs": [
    {
     "name": "stdout",
     "output_type": "stream",
     "text": [
      "The autoreload extension is already loaded. To reload it, use:\n",
      "  %reload_ext autoreload\n"
     ]
    }
   ],
   "source": [
    "import geopandas as gpd\n",
    "import pandas as pd\n",
    "import os, sys\n",
    "from functions import * \n",
    "\n",
    "# This is a Jupyter Notebook extension which reloads all of the modules whenever you run the code\n",
    "# This is optional but good if you are modifying and testing source code\n",
    "%load_ext autoreload\n",
    "%autoreload 2\n",
    "\n",
    "import GOSTnets as gn\n",
    "\n",
    "# The load_osm module is an optional GOSTNets submodule \n",
    "# that is used to import OSM data. \n",
    "# Make sure gdal, geopy, and boltons are installed first \n",
    "# as it has additional dependencies \n",
    "# (look in GOSTnets repo main README file if you need additional help with this). \n",
    "# Then import the submodule.\n",
    "\n",
    "from GOSTnets.load_osm import *"
   ]
  },
  {
   "cell_type": "code",
   "execution_count": 8,
   "metadata": {},
   "outputs": [
    {
     "name": "stdout",
     "output_type": "stream",
     "text": [
      "['/home/jovyan/work/notebooks', '/home/jovyan/work/src', '/opt/conda/lib/python38.zip', '/opt/conda/lib/python3.8', '/opt/conda/lib/python3.8/lib-dynload', '', '/opt/conda/lib/python3.8/site-packages', '/opt/conda/lib/python3.8/site-packages/IPython/extensions', '/home/jovyan/.ipython']\n"
     ]
    }
   ],
   "source": [
    "import sys \n",
    "print(sys.path)"
   ]
  },
  {
   "cell_type": "code",
   "execution_count": null,
   "metadata": {},
   "outputs": [],
   "source": []
  }
 ],
 "metadata": {
  "kernelspec": {
   "display_name": "Python 3",
   "language": "python",
   "name": "python3"
  },
  "language_info": {
   "codemirror_mode": {
    "name": "ipython",
    "version": 3
   },
   "file_extension": ".py",
   "mimetype": "text/x-python",
   "name": "python",
   "nbconvert_exporter": "python",
   "pygments_lexer": "ipython3",
   "version": "3.8.4"
  }
 },
 "nbformat": 4,
 "nbformat_minor": 4
}
